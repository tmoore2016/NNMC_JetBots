{
 "cells": [
  {
   "cell_type": "markdown",
   "metadata": {},
   "source": [
    "# Driving through the maze of traffic cones - Data Collection\n",
    "\n",
    "If you ran through the basic motion and collision avoidance notebooks, hopefully you're enjoying how easy it can be to make your Jetbot move around and avoid the obstacles like walls or chairs. In this notebook we will show how to teach JetBot *drive through the maze of traffic cones*!  \n",
    "\n",
    "Similar to collision avoidance notebook, we are going to attempt to solve the problem using deep learning classification model. The idea is to create a virtual \"safety bubble\" around the robot. Within this safety bubble, the robot is able to spin in a circle without hitting any objects. However, unlike collision avoidance example with only two classes (free or blocked) our classifier with try to determine which way to spin to stay on a path and by how much. The output of our model is a set of four probabilities:\n",
    "- **p(Left)** - a probability of turning left (spinning counterclockwise)\n",
    "- **p(right)** - a probability of turning right (spinning clockwise)\n",
    "- **p(blocked)** - a probability of the path being blocked\n",
    "- **p(free)** - a probability of no obstacles in front of the robot (so it is safe to move forward)\n",
    "\n",
    "This is how we collect the data:  \n",
    "\n",
    "First, we'll manually place the robot in scenarios where it's \"safety bubble\" is violated, and label these scenarios ``blocked``.  We save a snapshot of what the robot sees along with this label.\n",
    "\n",
    "Second, we'll manually place the robot in scenarios where it's safe to move forward a bit, and label these scenarios ``free``.  Likewise, we save a snapshot along with this label.\n",
    "\n",
    "Thrird, we'll manually place the robot in scenarios where spinning to the left (counterclockwise) would be the optimal move and label these scenarios ``left``. Likewise, we save a snapshot along with this label. Try to vary the angle of the desired rotation - place the robot in scenarios where this angle is larger or smaller.\n",
    "\n",
    "Finally, we'll manually place the robot in scenarios where turning right (clockwise) would be the optimal move and label these scenarios ``right``. Likewise, we save a snapshot along with this label. Try to vary the angle of the desired rotation - place the robot in scenarios where this angle is larger or smaller. \n",
    "\n",
    "Once we have 100-200 images and labels for each of four classes we have two options we can \n",
    "1. Upload this data to a GPU enabled machine where we'll *train* a neural network to predict the probabilities above  based off of the image it sees, OR\n",
    "2. Train model on JetBot's GPU  \n",
    "\n",
    "We'll use our trained model to implement a simple driving behavior in the end :)\n",
    "\n",
    "> IMPORTANT NOTE:  When JetBot spins in place, it actually spins about the center between the two wheels, not the center of the robot chassis itself.  This is an important detail to remember when you're trying to estimate whether the robot's safety bubble is violated or not. If in doubt it's better to lean on the cautious side (a big safety bubble).  We want to make sure JetBot doesn't enter a scenario that it couldn't get out of by turning in place."
   ]
  },
  {
   "cell_type": "code",
   "execution_count": null,
   "metadata": {},
   "outputs": [],
   "source": []
  },
  {
   "cell_type": "markdown",
   "metadata": {},
   "source": [
    "### Display live camera feed\n",
    "\n",
    "First, let's initialize and display our camera like we did in the *teleoperation* notebook.  \n",
    "\n",
    "> Our neural network takes a 224x224 pixel image as input.  We'll set our camera to that size to minimize the filesize of our dataset (we've tested that it works for this task).\n",
    "> In some scenarios it may be better to collect data in a larger image size and downscale to the desired size later."
   ]
  },
  {
   "cell_type": "code",
   "execution_count": 1,
   "metadata": {
    "scrolled": true
   },
   "outputs": [
    {
     "data": {
      "application/vnd.jupyter.widget-view+json": {
       "model_id": "ccdc24d2d12644e8ab4931403e54e59d",
       "version_major": 2,
       "version_minor": 0
      },
      "text/plain": [
       "Image(value=b'\\xff\\xd8\\xff\\xe0\\x00\\x10JFIF\\x00\\x01\\x01\\x00\\x00\\x01\\x00\\x01\\x00\\x00\\xff\\xdb\\x00C\\x00\\x02\\x01\\x0…"
      ]
     },
     "metadata": {},
     "output_type": "display_data"
    }
   ],
   "source": [
    "import traitlets\n",
    "import ipywidgets.widgets as widgets\n",
    "from IPython.display import display\n",
    "from jetbot import Camera, bgr8_to_jpeg\n",
    "\n",
    "camera = Camera.instance(width=224, height=224)\n",
    "\n",
    "image = widgets.Image(format='jpeg', width=224, height=224)  # this width and height doesn't necessarily have to match the camera\n",
    "\n",
    "camera_link = traitlets.dlink((camera, 'value'), (image, 'value'), transform=bgr8_to_jpeg)\n",
    "\n",
    "display(image)"
   ]
  },
  {
   "cell_type": "markdown",
   "metadata": {},
   "source": [
    "After running the cell above JetBot should display the camera feed. \n",
    "\n",
    "If you observe a substantial time lag, there are a couple of things you can try:\n",
    "\n",
    "1. Make sure you use the listed battery pack and it is charged\n",
    "\n",
    "2. Check if Jetson Nano is in MAXN or 5W mode. You can determine this by calling the following from a terminal:\n",
    "\n",
    "``nvpmodel -q``\n",
    "\n",
    "3. Move your JetBot closer to WiFi router\n",
    "\n",
    "4. Restart nvargus-daemon (details are [here](https://github.com/NVIDIA-AI-IOT/jetbot/issues/47)):\n",
    "\n",
    "``sudo systemctl restart nvargus-daemon``\n",
    "\n",
    "5. Shutdown all kernels (*Kernel -> Shudown All Kernels*) and restart the notebook Move your JetBot closer to WiFi router\n",
    "\n",
    "6. Stop and disable [rsyslog](https://github.com/NVIDIA-AI-IOT/jetbot/issues/63):\n",
    "\n",
    "``sudo service rsyslog stop``\n",
    "\n",
    "``sudo systemctl disable rsyslog``\n",
    "\n",
    "If nothing helps, you should still be able to collect the data - you just cannot rely on the display with the camera feed which is annoying but not critical.)  "
   ]
  },
  {
   "cell_type": "markdown",
   "metadata": {},
   "source": [
    "Now let's create a few directories where we'll store all our data.  We'll create a folder ``dataset_cones`` that will contain four sub-folders ``free``, ``left``, ``right`` and ``blocked`` where we'll place the images for each scenario."
   ]
  },
  {
   "cell_type": "code",
   "execution_count": 10,
   "metadata": {},
   "outputs": [],
   "source": [
    "import os\n",
    "\n",
    "\n",
    "free_dir = 'dataset/free'\n",
    "blocked_dir = 'dataset/blocked'\n",
    "\n",
    "north_dir = 'dataset/north'\n",
    "south_dir = 'dataset/south'\n",
    "east_dir = 'dataset/east'\n",
    "west_dir = 'dataset/west'\n",
    "pets_dir = 'dataset/pets'\n",
    "people_dir = 'dataset/people'\n",
    "\n",
    "# turnAround_dir = 'dataset/turnAround'\n",
    "\n",
    "\n",
    "# we have this \"try/except\" statement because these next functions can throw an error if the directories exist already\n",
    "try:\n",
    "    os.makedirs(free_dir)\n",
    "    os.makedirs(blocked_dir)\n",
    "    \n",
    "    os.makedirs(north_dir)\n",
    "    os.makedirs(south_dir)\n",
    "    os.makedirs(east_dir)\n",
    "    os.makedirs(west_dir)\n",
    "\n",
    "    os.makedirs(pets_dir)\n",
    "    os.makedirs(people_dir)\n",
    "    \n",
    "except FileExistsError:\n",
    "    print('Directories not created because they already exist')"
   ]
  },
  {
   "cell_type": "markdown",
   "metadata": {},
   "source": [
    "If you refresh the Jupyter file browser on the left, you should now see those directories appear.  Next, let's create and display some buttons that we'll use to save snapshots\n",
    "for each class label.  We'll also add some text boxes that will display how many images of each category that we've collected so far. This is useful because we want to make\n",
    "sure we collect about the same number of images for each class (``free``, ``left``, ``right`` or ``blocked``.)  It also helps to know how many images we've collected overall."
   ]
  },
  {
   "cell_type": "code",
   "execution_count": 19,
   "metadata": {},
   "outputs": [
    {
     "data": {
      "application/vnd.jupyter.widget-view+json": {
       "model_id": "c23f42da60ac4e0ebb2d612749be039a",
       "version_major": 2,
       "version_minor": 0
      },
      "text/plain": [
       "HBox(children=(IntText(value=122, layout=Layout(height='64px', width='192px')), Button(button_style='success',…"
      ]
     },
     "metadata": {},
     "output_type": "display_data"
    },
    {
     "data": {
      "application/vnd.jupyter.widget-view+json": {
       "model_id": "07aee6dff31140109f737b937b409185",
       "version_major": 2,
       "version_minor": 0
      },
      "text/plain": [
       "HBox(children=(IntText(value=309, layout=Layout(height='64px', width='192px')), Button(button_style='danger', …"
      ]
     },
     "metadata": {},
     "output_type": "display_data"
    },
    {
     "data": {
      "application/vnd.jupyter.widget-view+json": {
       "model_id": "b75157902ec54601a1a9a59284c00cca",
       "version_major": 2,
       "version_minor": 0
      },
      "text/plain": [
       "HBox(children=(IntText(value=0, layout=Layout(height='64px', width='128px')), Button(button_style='info', desc…"
      ]
     },
     "metadata": {},
     "output_type": "display_data"
    },
    {
     "data": {
      "application/vnd.jupyter.widget-view+json": {
       "model_id": "5467eddcbb71405b915d35121e804608",
       "version_major": 2,
       "version_minor": 0
      },
      "text/plain": [
       "HBox(children=(IntText(value=0, layout=Layout(height='64px', width='128px')), Button(button_style='info', desc…"
      ]
     },
     "metadata": {},
     "output_type": "display_data"
    },
    {
     "data": {
      "application/vnd.jupyter.widget-view+json": {
       "model_id": "a1593e5df2b94242b2809012eb59406e",
       "version_major": 2,
       "version_minor": 0
      },
      "text/plain": [
       "HBox(children=(IntText(value=0, layout=Layout(height='64px', width='128px')), Button(button_style='info', desc…"
      ]
     },
     "metadata": {},
     "output_type": "display_data"
    },
    {
     "data": {
      "application/vnd.jupyter.widget-view+json": {
       "model_id": "4a9100b371774d0d8919628bbe81fcfb",
       "version_major": 2,
       "version_minor": 0
      },
      "text/plain": [
       "HBox(children=(IntText(value=118, layout=Layout(height='64px', width='128px')), Button(button_style='info', de…"
      ]
     },
     "metadata": {},
     "output_type": "display_data"
    },
    {
     "data": {
      "application/vnd.jupyter.widget-view+json": {
       "model_id": "037eb84639f34c9e940cb2a3116ccc4c",
       "version_major": 2,
       "version_minor": 0
      },
      "text/plain": [
       "HBox(children=(IntText(value=3, layout=Layout(height='64px', width='192px')), Button(button_style='success', d…"
      ]
     },
     "metadata": {},
     "output_type": "display_data"
    },
    {
     "data": {
      "application/vnd.jupyter.widget-view+json": {
       "model_id": "c1846807c6d14ea8b9c7caf733fe771a",
       "version_major": 2,
       "version_minor": 0
      },
      "text/plain": [
       "HBox(children=(IntText(value=1, layout=Layout(height='64px', width='192px')), Button(button_style='danger', de…"
      ]
     },
     "metadata": {},
     "output_type": "display_data"
    }
   ],
   "source": [
    "button_layout_1 = widgets.Layout(width='192px', height='64px')\n",
    "button_layout_2 = widgets.Layout(width='128px', height='64px')\n",
    "\n",
    "free_button = widgets.Button(description='add free',   button_style='success', layout=button_layout_1)\n",
    "blocked_button = widgets.Button(description='add blocked',   button_style='danger', layout=button_layout_1)\n",
    "\n",
    "north_button = widgets.Button(description='North',   button_style='info', layout=button_layout_2)\n",
    "south_button = widgets.Button(description='South',   button_style='info', layout=button_layout_2)\n",
    "east_button = widgets.Button(description='East',   button_style='info', layout=button_layout_2)\n",
    "west_button = widgets.Button(description='West',   button_style='info', layout=button_layout_2)\n",
    "\n",
    "pets_button = widgets.Button(description='add Pets',   button_style='success', layout=button_layout_1)\n",
    "people_button = widgets.Button(description='add People',   button_style='danger', layout=button_layout_1)\n",
    "\n",
    "free_count = widgets.IntText(layout=button_layout_1,  value=len(os.listdir(free_dir)))\n",
    "blocked_count = widgets.IntText(layout=button_layout_1,  value=len(os.listdir(blocked_dir)))\n",
    "\n",
    "north_count = widgets.IntText(layout=button_layout_2, value=len(os.listdir(north_dir)))\n",
    "south_count = widgets.IntText(layout=button_layout_2, value=len(os.listdir(south_dir)))\n",
    "east_count = widgets.IntText(layout=button_layout_2, value=len(os.listdir(east_dir)))\n",
    "west_count = widgets.IntText(layout=button_layout_2, value=len(os.listdir(west_dir)))\n",
    "\n",
    "pets_count = widgets.IntText(layout=button_layout_1,  value=len(os.listdir(pets_dir)))\n",
    "people_count = widgets.IntText(layout=button_layout_1,  value=len(os.listdir(people_dir)))\n",
    "\n",
    "\n",
    "display(widgets.HBox([free_count, free_button]))\n",
    "display(widgets.HBox([blocked_count, blocked_button]))\n",
    "\n",
    "display(widgets.HBox([north_count, north_button]))\n",
    "display(widgets.HBox([south_count, south_button]))\n",
    "display(widgets.HBox([east_count, east_button]))\n",
    "display(widgets.HBox([west_count, west_button]))\n",
    "\n",
    "display(widgets.HBox([pets_count, pets_button]))\n",
    "display(widgets.HBox([people_count, people_button]))"
   ]
  },
  {
   "cell_type": "markdown",
   "metadata": {},
   "source": [
    "Right now, these buttons wont do anything.  We have to attach functions to save images for each category to the buttons' ``on_click`` event.  We'll save the value\n",
    "of the ``Image`` widget (rather than the camera), because it's already in compressed JPEG format!\n",
    "\n",
    "To make sure we don't repeat any file names (even across different machines!) we'll use the ``uuid`` package in python, which defines the ``uuid1`` method to generate\n",
    "a unique identifier.  This unique identifier is generated from information like the current time and the machine address."
   ]
  },
  {
   "cell_type": "code",
   "execution_count": 16,
   "metadata": {},
   "outputs": [],
   "source": [
    "from uuid import uuid1\n",
    "\n",
    "def save_snapshot(directory):\n",
    "    image_path = os.path.join(directory, str(uuid1()) + '.jpg')\n",
    "    with open(image_path, 'wb') as f:\n",
    "        f.write(image.value)\n",
    "\n",
    "def save_free():\n",
    "    global free_dir, free_count\n",
    "    save_snapshot(free_dir)\n",
    "    free_count.value = len(os.listdir(free_dir))\n",
    "    \n",
    "def save_blocked():\n",
    "    global blocked_dir, blocked_count\n",
    "    save_snapshot(blocked_dir)\n",
    "    blocked_count.value = len(os.listdir(blocked_dir))\n",
    "    \n",
    "def save_north():\n",
    "    global north_dir, north_count\n",
    "    save_snapshot(north_dir)\n",
    "    north_count.value = len(os.listdir(north_dir))\n",
    "    \n",
    "def save_south():\n",
    "    global south_dir, south_count\n",
    "    save_snapshot(south_dir)\n",
    "    south_count.value = len(os.listdir(south_dir))\n",
    "    \n",
    "def save_east():\n",
    "    global east_dir, east_count\n",
    "    save_snapshot(east_dir)\n",
    "    east_count.value = len(os.listdir(east_dir))\n",
    "    \n",
    "def save_west():\n",
    "    global west_dir, west_count\n",
    "    save_snapshot(west_dir)\n",
    "    west_count.value = len(os.listdir(west_dir))\n",
    "    \n",
    "def save_pets():\n",
    "    global pets_dir, pets_count\n",
    "    save_snapshot(pets_dir)\n",
    "    pets_count.value = len(os.listdir(pets_dir))\n",
    "\n",
    "def save_people():\n",
    "    global people_dir, people_count\n",
    "    save_snapshot(people_dir)\n",
    "    people_count.value = len(os.listdir(people_dir))\n",
    "\n",
    "# attach the callbacks, we use a 'lambda' function to ignore the\n",
    "# parameter that the on_click event would provide to our function\n",
    "# because we don't need it.\n",
    "free_button.on_click(lambda x: save_free())\n",
    "blocked_button.on_click(lambda x: save_blocked())\n",
    "\n",
    "north_button.on_click(lambda x: save_north())\n",
    "south_button.on_click(lambda x: save_south())\n",
    "east_button.on_click(lambda x: save_east())\n",
    "west_button.on_click(lambda x: save_west())\n",
    "\n",
    "pets_button.on_click(lambda x: save_pets())\n",
    "people_button.on_click(lambda x: save_people())\n",
    "\n"
   ]
  },
  {
   "cell_type": "markdown",
   "metadata": {},
   "source": [
    "Great! Now the buttons above should save images to the ``free``, ``blocked``, ``left`` and ``right`` directories.  You can use the Jupyter Lab file browser to view these files!\n",
    "\n",
    "Now go ahead and collect some data \n",
    "\n",
    "1. Place the robot in a scenario where it's supposed to turn right and press ``add right``\n",
    "2. Place the robot in a scenario where it's supposed to turn left and press ``add left``\n",
    "3. Place the robot in a scenario where it's free and press ``add free``\n",
    "3. Place the robot in a scenario where it's blocked and press ``add blocked``\n",
    "5. Repeat 1, 2, 3, 4\n",
    "\n",
    "> REMINDER: You can move the widgets to new windows by right clicking the cell and clicking ``Create New View for Output``.  Or, you can just re-display them\n",
    "> together as we will below\n",
    "\n",
    "Here are some tips for labeling data\n",
    "\n",
    "1. Try different orientations (e.g. sharp right vs slight right, closer to the cone or further away from it, etc.) \n",
    "2. Try different lighting\n",
    "3. Try different textured floors / objects;  patterned, smooth, glass, etc.\n",
    "\n",
    "Ultimately, the more data we have of scenarios the robot will encounter in the real world, the better our collision avoidance behavior will be.  It's important\n",
    "to get *varied* data (as described by the above tips) and not just a lot of data, but you'll probably need at least 100 images of each class (that's not a science, just a helpful tip here).  But don't worry, it goes pretty fast once you get going :)"
   ]
  },
  {
   "cell_type": "code",
   "execution_count": 20,
   "metadata": {},
   "outputs": [
    {
     "data": {
      "application/vnd.jupyter.widget-view+json": {
       "model_id": "ccdc24d2d12644e8ab4931403e54e59d",
       "version_major": 2,
       "version_minor": 0
      },
      "text/plain": [
       "Image(value=b'\\xff\\xd8\\xff\\xe0\\x00\\x10JFIF\\x00\\x01\\x01\\x00\\x00\\x01\\x00\\x01\\x00\\x00\\xff\\xdb\\x00C\\x00\\x02\\x01\\x0…"
      ]
     },
     "metadata": {},
     "output_type": "display_data"
    },
    {
     "data": {
      "application/vnd.jupyter.widget-view+json": {
       "model_id": "9e11beb1ac044fb4a1569bd018638ebf",
       "version_major": 2,
       "version_minor": 0
      },
      "text/plain": [
       "HBox(children=(Button(button_style='success', description='add free', layout=Layout(height='64px', width='192p…"
      ]
     },
     "metadata": {},
     "output_type": "display_data"
    },
    {
     "data": {
      "application/vnd.jupyter.widget-view+json": {
       "model_id": "ead9df4b895a4320b119d85dbed2a14a",
       "version_major": 2,
       "version_minor": 0
      },
      "text/plain": [
       "HBox(children=(Button(button_style='info', description='West', layout=Layout(height='64px', width='128px'), st…"
      ]
     },
     "metadata": {},
     "output_type": "display_data"
    },
    {
     "data": {
      "application/vnd.jupyter.widget-view+json": {
       "model_id": "cf384a35f84344649a0f8d5dd9192485",
       "version_major": 2,
       "version_minor": 0
      },
      "text/plain": [
       "HBox(children=(Button(button_style='success', description='add Pets', layout=Layout(height='64px', width='192p…"
      ]
     },
     "metadata": {},
     "output_type": "display_data"
    },
    {
     "data": {
      "application/vnd.jupyter.widget-view+json": {
       "model_id": "2e7b4f8c46a64aedbad85c0faaea40bf",
       "version_major": 2,
       "version_minor": 0
      },
      "text/plain": [
       "HBox(children=(IntText(value=122, layout=Layout(height='64px', width='192px')), IntText(value=309, layout=Layo…"
      ]
     },
     "metadata": {},
     "output_type": "display_data"
    },
    {
     "data": {
      "application/vnd.jupyter.widget-view+json": {
       "model_id": "80b6a18d9fe1479ba31d97f5c927ce5d",
       "version_major": 2,
       "version_minor": 0
      },
      "text/plain": [
       "HBox(children=(IntText(value=118, layout=Layout(height='64px', width='128px')), VBox(children=(IntText(value=0…"
      ]
     },
     "metadata": {},
     "output_type": "display_data"
    },
    {
     "data": {
      "application/vnd.jupyter.widget-view+json": {
       "model_id": "186225b8a4d949eab052cd17fb775948",
       "version_major": 2,
       "version_minor": 0
      },
      "text/plain": [
       "HBox(children=(IntText(value=3, layout=Layout(height='64px', width='192px')), IntText(value=1, layout=Layout(h…"
      ]
     },
     "metadata": {},
     "output_type": "display_data"
    }
   ],
   "source": [
    "display(image)\n",
    "\n",
    "# display buttons\n",
    "top_box = widgets.HBox([free_button, blocked_button])\n",
    "\n",
    "middle_box = widgets.VBox([north_button, south_button])\n",
    "controls_box = widgets.HBox([west_button, middle_box, east_button])\n",
    "\n",
    "bottom_box = widgets.HBox([pets_button, people_button])\n",
    "\n",
    "display(top_box)\n",
    "display(controls_box)\n",
    "display(bottom_box)\n",
    "\n",
    "# display counts\n",
    "top_box_count = widgets.HBox([free_count, blocked_count])\n",
    "\n",
    "middle_box_count = widgets.VBox([north_count, south_count])\n",
    "controls_box_count = widgets.HBox([west_count, middle_box_count, east_count])\n",
    "\n",
    "bottom_box_count = widgets.HBox([pets_count, people_count])\n",
    "\n",
    "display(top_box_count)\n",
    "display(controls_box_count)\n",
    "display(bottom_box_count)\n"
   ]
  },
  {
   "cell_type": "markdown",
   "metadata": {},
   "source": [
    "## Next\n",
    "\n",
    "Once you've collected enough data, we'll need to copy that data to our GPU desktop or cloud machine for training.  First, we can call the following *terminal* command to compress\n",
    "our dataset folder into a single *zip* file.\n",
    "\n",
    "> The ! prefix indicates that we want to run the cell as a *shell* (or *terminal*) command.\n",
    "\n",
    "> The -r flag in the zip command below indicates *recursive* so that we include all nested files, the -q flag indicates *quiet* so that the zip command doesn't print any output"
   ]
  },
  {
   "cell_type": "code",
   "execution_count": null,
   "metadata": {},
   "outputs": [],
   "source": [
    "#!zip -r -q dataset_cones.zip dataset_cones"
   ]
  },
  {
   "cell_type": "markdown",
   "metadata": {},
   "source": [
    "You should see a file named ``dataset_cones.zip`` in the Jupyter Lab file browser.  You should download the zip file using the Jupyter Lab file browser by right clicking and selecting ``Download``.\n",
    "\n",
    "> NOTE: If Chrome blocks download from the notebook you can use Internet Explorer for downloading (i.e. connect to JetBot from Internet Explorer and download the data) \n",
    "\n",
    "Next, we'll need to upload this data to our GPU desktop or cloud machine (we refer to this as the *host*) to train the collision avoidance neural network.  We'll assume that you've set up your training\n",
    "machine as described in the JetBot WiKi.  If you have, you can navigate to ``http://<host_ip_address>:8888`` to open up the Jupyter Lab environment running on the host.  The notebook you'll need to open there is called ``collision_avoidance/train_model_cones.ipynb``.\n",
    "\n",
    "So head on over to your training machine and follow the instructions there!  Once your model is trained, we'll return to the robot Jupyter Lab enivornment to use the model for a live demo!"
   ]
  }
 ],
 "metadata": {
  "kernelspec": {
   "display_name": "Python 3",
   "language": "python",
   "name": "python3"
  },
  "language_info": {
   "codemirror_mode": {
    "name": "ipython",
    "version": 3
   },
   "file_extension": ".py",
   "mimetype": "text/x-python",
   "name": "python",
   "nbconvert_exporter": "python",
   "pygments_lexer": "ipython3",
   "version": "3.6.9"
  }
 },
 "nbformat": 4,
 "nbformat_minor": 4
}
