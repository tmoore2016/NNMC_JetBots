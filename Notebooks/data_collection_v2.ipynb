{
 "cells": [
  {
   "cell_type": "markdown",
   "metadata": {},
   "source": [
    "# Data Collection:\n",
    "\n",
    "#### This notebook contains code for data collection. The data will be used to train our JetBots to navigate their environment. We use this code to collect images with the JetBot's camera and place the images in appropriately labeled folders. We have 4 datasets: ``free``, ``blocked``, ``left``, and ``right``.\n",
    "\n",
    "\n",
    "This code is modified from NVidia's JetBot project here: https://github.com/NVIDIA-AI-IOT/jetbot\n",
    "\n",
    "George Gorospe of NASA and STARR has modified the data collection notebook here: https://github.com/RFisherIves/STARR\n",
    "\n",
    "We have also utilized code from DVillevald's JetBot project here: https://github.com/dvillevald/Finding-path-in-maze-of-traffic-cones/ "
   ]
  },
  {
   "cell_type": "markdown",
   "metadata": {},
   "source": [
    "#### Step 1: Create a viewer and display the JetBot's camera feed:"
   ]
  },
  {
   "cell_type": "code",
   "execution_count": 1,
   "metadata": {},
   "outputs": [
    {
     "ename": "RuntimeError",
     "evalue": "Could not initialize camera.  Please see error trace.",
     "output_type": "error",
     "traceback": [
      "\u001b[0;31m---------------------------------------------------------------------------\u001b[0m",
      "\u001b[0;31mRuntimeError\u001b[0m                              Traceback (most recent call last)",
      "\u001b[0;32m/usr/local/lib/python3.6/dist-packages/jetbot-0.4.0-py3.6.egg/jetbot/camera.py\u001b[0m in \u001b[0;36m__init__\u001b[0;34m(self, *args, **kwargs)\u001b[0m\n\u001b[1;32m     29\u001b[0m             \u001b[0;32mif\u001b[0m \u001b[0;32mnot\u001b[0m \u001b[0mre\u001b[0m\u001b[0;34m:\u001b[0m\u001b[0;34m\u001b[0m\u001b[0;34m\u001b[0m\u001b[0m\n\u001b[0;32m---> 30\u001b[0;31m                 \u001b[0;32mraise\u001b[0m \u001b[0mRuntimeError\u001b[0m\u001b[0;34m(\u001b[0m\u001b[0;34m'Could not read image from camera.'\u001b[0m\u001b[0;34m)\u001b[0m\u001b[0;34m\u001b[0m\u001b[0;34m\u001b[0m\u001b[0m\n\u001b[0m\u001b[1;32m     31\u001b[0m \u001b[0;34m\u001b[0m\u001b[0m\n",
      "\u001b[0;31mRuntimeError\u001b[0m: Could not read image from camera.",
      "\nDuring handling of the above exception, another exception occurred:\n",
      "\u001b[0;31mRuntimeError\u001b[0m                              Traceback (most recent call last)",
      "\u001b[0;32m<ipython-input-1-c2a15f48ed2b>\u001b[0m in \u001b[0;36m<module>\u001b[0;34m\u001b[0m\n\u001b[1;32m      8\u001b[0m \u001b[0mos\u001b[0m\u001b[0;34m.\u001b[0m\u001b[0msystem\u001b[0m\u001b[0;34m(\u001b[0m\u001b[0;34m'systemctl restart nvargus-daemon'\u001b[0m\u001b[0;34m)\u001b[0m \u001b[0;31m# Restart daemon to reset camera\u001b[0m\u001b[0;34m\u001b[0m\u001b[0;34m\u001b[0m\u001b[0m\n\u001b[1;32m      9\u001b[0m \u001b[0;34m\u001b[0m\u001b[0m\n\u001b[0;32m---> 10\u001b[0;31m \u001b[0mcamera\u001b[0m \u001b[0;34m=\u001b[0m \u001b[0mCamera\u001b[0m\u001b[0;34m.\u001b[0m\u001b[0minstance\u001b[0m\u001b[0;34m(\u001b[0m\u001b[0mwidth\u001b[0m\u001b[0;34m=\u001b[0m\u001b[0;36m224\u001b[0m\u001b[0;34m,\u001b[0m \u001b[0mheight\u001b[0m\u001b[0;34m=\u001b[0m\u001b[0;36m224\u001b[0m\u001b[0;34m)\u001b[0m \u001b[0;31m# Set the minimum image size for minimum file size\u001b[0m\u001b[0;34m\u001b[0m\u001b[0;34m\u001b[0m\u001b[0m\n\u001b[0m\u001b[1;32m     11\u001b[0m \u001b[0;34m\u001b[0m\u001b[0m\n\u001b[1;32m     12\u001b[0m \u001b[0mimage\u001b[0m \u001b[0;34m=\u001b[0m \u001b[0mwidgets\u001b[0m\u001b[0;34m.\u001b[0m\u001b[0mImage\u001b[0m\u001b[0;34m(\u001b[0m\u001b[0mformat\u001b[0m\u001b[0;34m=\u001b[0m\u001b[0;34m'jpeg'\u001b[0m\u001b[0;34m,\u001b[0m \u001b[0mwidth\u001b[0m\u001b[0;34m=\u001b[0m\u001b[0;36m224\u001b[0m\u001b[0;34m,\u001b[0m \u001b[0mheight\u001b[0m\u001b[0;34m=\u001b[0m\u001b[0;36m224\u001b[0m\u001b[0;34m)\u001b[0m \u001b[0;31m# Set viewer to the same size as camera image\u001b[0m\u001b[0;34m\u001b[0m\u001b[0;34m\u001b[0m\u001b[0m\n",
      "\u001b[0;32m/usr/local/lib/python3.6/dist-packages/traitlets/config/configurable.py\u001b[0m in \u001b[0;36minstance\u001b[0;34m(cls, *args, **kwargs)\u001b[0m\n\u001b[1;32m    508\u001b[0m         \u001b[0;31m# Create and save the instance\u001b[0m\u001b[0;34m\u001b[0m\u001b[0;34m\u001b[0m\u001b[0;34m\u001b[0m\u001b[0m\n\u001b[1;32m    509\u001b[0m         \u001b[0;32mif\u001b[0m \u001b[0mcls\u001b[0m\u001b[0;34m.\u001b[0m\u001b[0m_instance\u001b[0m \u001b[0;32mis\u001b[0m \u001b[0;32mNone\u001b[0m\u001b[0;34m:\u001b[0m\u001b[0;34m\u001b[0m\u001b[0;34m\u001b[0m\u001b[0m\n\u001b[0;32m--> 510\u001b[0;31m             \u001b[0minst\u001b[0m \u001b[0;34m=\u001b[0m \u001b[0mcls\u001b[0m\u001b[0;34m(\u001b[0m\u001b[0;34m*\u001b[0m\u001b[0margs\u001b[0m\u001b[0;34m,\u001b[0m \u001b[0;34m**\u001b[0m\u001b[0mkwargs\u001b[0m\u001b[0;34m)\u001b[0m\u001b[0;34m\u001b[0m\u001b[0;34m\u001b[0m\u001b[0m\n\u001b[0m\u001b[1;32m    511\u001b[0m             \u001b[0;31m# Now make sure that the instance will also be returned by\u001b[0m\u001b[0;34m\u001b[0m\u001b[0;34m\u001b[0m\u001b[0;34m\u001b[0m\u001b[0m\n\u001b[1;32m    512\u001b[0m             \u001b[0;31m# parent classes' _instance attribute.\u001b[0m\u001b[0;34m\u001b[0m\u001b[0;34m\u001b[0m\u001b[0;34m\u001b[0m\u001b[0m\n",
      "\u001b[0;32m/usr/local/lib/python3.6/dist-packages/jetbot-0.4.0-py3.6.egg/jetbot/camera.py\u001b[0m in \u001b[0;36m__init__\u001b[0;34m(self, *args, **kwargs)\u001b[0m\n\u001b[1;32m     35\u001b[0m             \u001b[0mself\u001b[0m\u001b[0;34m.\u001b[0m\u001b[0mstop\u001b[0m\u001b[0;34m(\u001b[0m\u001b[0;34m)\u001b[0m\u001b[0;34m\u001b[0m\u001b[0;34m\u001b[0m\u001b[0m\n\u001b[1;32m     36\u001b[0m             raise RuntimeError(\n\u001b[0;32m---> 37\u001b[0;31m                 'Could not initialize camera.  Please see error trace.')\n\u001b[0m\u001b[1;32m     38\u001b[0m \u001b[0;34m\u001b[0m\u001b[0m\n\u001b[1;32m     39\u001b[0m         \u001b[0matexit\u001b[0m\u001b[0;34m.\u001b[0m\u001b[0mregister\u001b[0m\u001b[0;34m(\u001b[0m\u001b[0mself\u001b[0m\u001b[0;34m.\u001b[0m\u001b[0mstop\u001b[0m\u001b[0;34m)\u001b[0m\u001b[0;34m\u001b[0m\u001b[0;34m\u001b[0m\u001b[0m\n",
      "\u001b[0;31mRuntimeError\u001b[0m: Could not initialize camera.  Please see error trace."
     ]
    }
   ],
   "source": [
    "import os\n",
    "import traitlets\n",
    "import ipywidgets.widgets as widgets\n",
    "\n",
    "from IPython.display import display\n",
    "from jetbot import Camera, bgr8_to_jpeg\n",
    "\n",
    "os.system('systemctl restart nvargus-daemon') # Restart daemon to reset camera\n",
    "\n",
    "camera = Camera.instance(width=224, height=224) # Set the minimum image size for minimum file size\n",
    "\n",
    "image = widgets.Image(format='jpeg', width=224, height=224) # Set viewer to the same size as camera image\n",
    "\n",
    "camera_link = traitlets.dlink((camera, 'value'), (image, 'value'), transform=bgr8_to_jpeg) # update the image displayed from the camera feed\n",
    "\n",
    "display(image) # show image in viewer"
   ]
  },
  {
   "cell_type": "markdown",
   "metadata": {},
   "source": [
    "#### Step 2: Create directories to store the images."
   ]
  },
  {
   "cell_type": "code",
   "execution_count": null,
   "metadata": {},
   "outputs": [],
   "source": [
    "# assign paths for the dataset directories\n",
    "free_dir = 'dataset_FBLR/free' \n",
    "blocked_dir = 'dataset_FBLR/blocked'\n",
    "left_dir = 'dataset_FBLR/left'\n",
    "right_dir = 'dataset_FBLR/right'\n",
    "\n",
    "# call the OS to create our dataset directories if they don't already exist\n",
    "try:\n",
    "    os.makedirs(free_dir)\n",
    "    os.makedirs(blocked_dir)\n",
    "    os.makedirs(left_dir)\n",
    "    os.makedirs(right_dir)\n",
    "    \n",
    "except FileExistsError:\n",
    "    print('Directories already exist')"
   ]
  },
  {
   "cell_type": "markdown",
   "metadata": {},
   "source": [
    "#### Step 3: Create a GUI interface"
   ]
  },
  {
   "cell_type": "code",
   "execution_count": null,
   "metadata": {},
   "outputs": [],
   "source": [
    "# Create a button layout\n",
    "button_layout_1 = widgets.Layout(width='128px', height='64px')\n",
    "button_layout_2 = widgets.Layout(width='56px', height='64px')\n",
    "\n",
    "# Associate buttons with the layout and style them\n",
    "free_button = widgets.Button(description='Free',   button_style='success', layout=button_layout_1)\n",
    "left_button = widgets.Button(description='Left',   button_style='info', layout=button_layout_1)\n",
    "right_button = widgets.Button(description='Right',   button_style='info', layout=button_layout_1)\n",
    "blocked_button = widgets.Button(description='Blocked',   button_style='danger', layout=button_layout_1)\n",
    "\n",
    "\n",
    "# Add counters for each dataset\n",
    "free_count = widgets.IntText(layout=button_layout_2,  value=len(os.listdir(free_dir)))\n",
    "left_count = widgets.IntText(layout=button_layout_2,  value=len(os.listdir(left_dir)))\n",
    "right_count = widgets.IntText(layout=button_layout_2,  value=len(os.listdir(right_dir)))\n",
    "blocked_count = widgets.IntText(layout=button_layout_2,  value=len(os.listdir(blocked_dir)))\n",
    "\n",
    "\n",
    "# Associate the counters with their button\n",
    "display(widgets.HBox([free_button, free_count]))\n",
    "display(widgets.HBox([left_button, left_count]))\n",
    "display(widgets.HBox([right_button, right_count]))\n",
    "display(widgets.HBox([blocked_button, blocked_count]))"
   ]
  },
  {
   "cell_type": "markdown",
   "metadata": {},
   "source": [
    "#### Step 4: Define functions for the buttons"
   ]
  },
  {
   "cell_type": "code",
   "execution_count": null,
   "metadata": {},
   "outputs": [],
   "source": [
    "from uuid import uuid1\n",
    "\n",
    "# function to save an image as a .jpg\n",
    "def save_snapshot(directory):\n",
    "    image_path = os.path.join(directory, str(uuid1()) + '.jpg')\n",
    "    with open(image_path, 'wb') as f:\n",
    "        f.write(image.value)\n",
    "\n",
    "# functions to save an image to our dataset directory\n",
    "def save_free():\n",
    "    global free_dir, free_count\n",
    "    save_snapshot(free_dir) # save an image into the directory\n",
    "    free_count.value = len(os.listdir(free_dir)) # update the count for that directory\n",
    "    \n",
    "def save_blocked():\n",
    "    global blocked_dir, blocked_count\n",
    "    save_snapshot(blocked_dir)\n",
    "    blocked_count.value = len(os.listdir(blocked_dir))\n",
    "    \n",
    "def save_left():\n",
    "    global left_dir, left_count\n",
    "    save_snapshot(left_dir)\n",
    "    left_count.value = len(os.listdir(left_dir))\n",
    "    \n",
    "def save_right():\n",
    "    global right_dir, right_count\n",
    "    save_snapshot(right_dir)\n",
    "    right_count.value = len(os.listdir(right_dir))\n",
    "\n",
    "# associate our GUI buttons with our functions\n",
    "free_button.on_click(lambda x: save_free()) # On mouse click, save an image to the dataset directory\n",
    "blocked_button.on_click(lambda x: save_blocked())\n",
    "left_button.on_click(lambda x: save_left())\n",
    "right_button.on_click(lambda x: save_right())"
   ]
  },
  {
   "cell_type": "markdown",
   "metadata": {},
   "source": [
    "#### Step 5: Execute interactive code and collect data. Position/maneuver the JetBot to capture images of the appropriate datasets. Place the JetBot in a location where it can't move forward, click ``blocked``. Place the JetBot in a location where it can move forward, click ``free``. Place the JetBot in a location where it needs to turn to avoid becoming blocked, click ``left`` or ``right``. Repeat until each dataset directory contains 100s of corresponding images."
   ]
  },
  {
   "cell_type": "code",
   "execution_count": null,
   "metadata": {},
   "outputs": [],
   "source": [
    "# display camera feed\n",
    "display(image)\n",
    "\n",
    "# arrange buttons\n",
    "top_box = widgets.HBox([free_count, free_button])\n",
    "middle_box = widgets.HBox([left_button, left_count, right_button, right_count])\n",
    "bottom_box = widgets.HBox([blocked_count, blocked_button])\n",
    "\n",
    "# display buttons\n",
    "display(top_box)\n",
    "display(middle_box)\n",
    "display(bottom_box)"
   ]
  },
  {
   "cell_type": "markdown",
   "metadata": {},
   "source": [
    "#### Step 6: Move on to the ``train_model_v2.ipynb`` notebook."
   ]
  },
  {
   "cell_type": "code",
   "execution_count": null,
   "metadata": {},
   "outputs": [],
   "source": [
    "#### Working on a better button layout using grids"
   ]
  },
  {
   "cell_type": "code",
   "execution_count": 92,
   "metadata": {},
   "outputs": [
    {
     "data": {
      "application/vnd.jupyter.widget-view+json": {
       "model_id": "00b67900847a4598b84aea22decdeab2",
       "version_major": 2,
       "version_minor": 0
      },
      "text/plain": [
       "AppLayout(children=(Button(button_style='success', description='Free', layout=Layout(grid_area='header'), styl…"
      ]
     },
     "metadata": {},
     "output_type": "display_data"
    }
   ],
   "source": [
    "from ipywidgets import AppLayout, Button, Layout\n",
    "\n",
    "def create_expanded_button(description, button_style):\n",
    "    return Button(description=description, button_style=button_style)\n",
    "\n",
    "# Associate buttons with the layout and style them\n",
    "free_button = create_expanded_button(\"Free\", \"success\")\n",
    "left_button = create_expanded_button(\"Left\", \"info\")\n",
    "right_button = create_expanded_button(\"Right\", \"info\")\n",
    "blocked_button = create_expanded_button(\"Blocked\", \"danger\")\n",
    "\n",
    "AppLayout(header=free_button, left_sidebar=left_button, center=None, right_sidebar=right_button, footer=blocked_button)"
   ]
  },
  {
   "cell_type": "code",
   "execution_count": null,
   "metadata": {},
   "outputs": [],
   "source": []
  }
 ],
 "metadata": {
  "kernelspec": {
   "display_name": "Python 3",
   "language": "python",
   "name": "python3"
  },
  "language_info": {
   "codemirror_mode": {
    "name": "ipython",
    "version": 3
   },
   "file_extension": ".py",
   "mimetype": "text/x-python",
   "name": "python",
   "nbconvert_exporter": "python",
   "pygments_lexer": "ipython3",
   "version": "3.6.9"
  }
 },
 "nbformat": 4,
 "nbformat_minor": 4
}
