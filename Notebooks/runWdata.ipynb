{
 "cells": [
  {
   "cell_type": "markdown",
   "metadata": {},
   "source": [
    "# Run with Data Collection\n",
    "\n",
    "This notebook combines collision avoidance (CA) and steering models with data collection. Any time the JetBot gets confused, save an image to enhance the dataset."
   ]
  },
  {
   "cell_type": "code",
   "execution_count": 1,
   "metadata": {},
   "outputs": [
    {
     "data": {
      "application/vnd.jupyter.widget-view+json": {
       "model_id": "2c36acf46e78478fa261adf713df0796",
       "version_major": 2,
       "version_minor": 0
      },
      "text/plain": [
       "FloatSlider(value=0.0, description='Speed Gain', max=1.0, step=0.01)"
      ]
     },
     "metadata": {},
     "output_type": "display_data"
    },
    {
     "data": {
      "application/vnd.jupyter.widget-view+json": {
       "model_id": "0db8206b896e4f2ca4c2be44f7439d30",
       "version_major": 2,
       "version_minor": 0
      },
      "text/plain": [
       "FloatSlider(value=0.2, description='Steering Gain', max=1.0, step=0.01)"
      ]
     },
     "metadata": {},
     "output_type": "display_data"
    },
    {
     "data": {
      "application/vnd.jupyter.widget-view+json": {
       "model_id": "5f31076d59774a159bd644ba91f86097",
       "version_major": 2,
       "version_minor": 0
      },
      "text/plain": [
       "FloatSlider(value=0.0, description='Steering kd', max=0.5, step=0.001)"
      ]
     },
     "metadata": {},
     "output_type": "display_data"
    },
    {
     "data": {
      "application/vnd.jupyter.widget-view+json": {
       "model_id": "9d8382390de44ad1a4540e879e6ae449",
       "version_major": 2,
       "version_minor": 0
      },
      "text/plain": [
       "FloatSlider(value=0.0, description='Steering Bias', max=0.3, min=-0.3, step=0.01)"
      ]
     },
     "metadata": {},
     "output_type": "display_data"
    },
    {
     "data": {
      "application/vnd.jupyter.widget-view+json": {
       "model_id": "715532605d8846b891e9c8ad312bacd4",
       "version_major": 2,
       "version_minor": 0
      },
      "text/plain": [
       "HBox(children=(FloatSlider(value=0.0, description='y', max=1.0, orientation='vertical'), FloatSlider(value=0.0…"
      ]
     },
     "metadata": {},
     "output_type": "display_data"
    },
    {
     "data": {
      "application/vnd.jupyter.widget-view+json": {
       "model_id": "34a2e7188974407880ee65ff50f2653d",
       "version_major": 2,
       "version_minor": 0
      },
      "text/plain": [
       "FloatSlider(value=0.0, description='x', max=1.0, min=-1.0)"
      ]
     },
     "metadata": {},
     "output_type": "display_data"
    },
    {
     "data": {
      "application/vnd.jupyter.widget-view+json": {
       "model_id": "fd915fae071f4a099981d4a8d6654a1e",
       "version_major": 2,
       "version_minor": 0
      },
      "text/plain": [
       "FloatSlider(value=0.0, description='Steering', max=1.0, min=-1.0)"
      ]
     },
     "metadata": {},
     "output_type": "display_data"
    }
   ],
   "source": [
    "import torch\n",
    "import torchvision\n",
    "import torchvision.transforms as transforms\n",
    "import torch.nn.functional as F\n",
    "import PIL.Image\n",
    "import cv2\n",
    "import numpy as np\n",
    "import traitlets\n",
    "from IPython.display import display\n",
    "import ipywidgets\n",
    "import ipywidgets.widgets as widgets\n",
    "from jetbot import Camera, bgr8_to_jpeg\n",
    "from jetbot import Robot\n",
    "import time\n",
    "import os\n",
    "\n",
    "# Alexnet model for Collision Avoidance (CA)\n",
    "model_CA = torchvision.models.alexnet(pretrained=False)\n",
    "model_CA.classifier[6] = torch.nn.Linear(model_CA.classifier[6].in_features, 2)\n",
    "\n",
    "# Resnet model for steering\n",
    "model_Steer = torchvision.models.resnet18(pretrained=False)\n",
    "model_Steer.fc = torch.nn.Linear(512, 2)\n",
    "\n",
    "# Load the trained weights model for Collision Avoidance\n",
    "model_CA.load_state_dict(torch.load('best_model_FB.pth'))\n",
    "\n",
    "# Load the trained weights model for Steering\n",
    "model_Steer.load_state_dict(torch.load('best_steering_model_xy.pth'))\n",
    "\n",
    "# Load the weights on the GPU\n",
    "device = torch.device('cuda')\n",
    "model_CA = model_CA.to(device)\n",
    "model_Steer = model_Steer.to(device)\n",
    "model_Steer = model_Steer.eval().half()\n",
    "\n",
    "\n",
    "# Begin image preprocessing for Collision Avoidance\n",
    "mean_CA = 255.0 * np.array([0.485, 0.456, 0.406])\n",
    "stdev_CA = 255.0 * np.array([0.229, 0.224, 0.225])\n",
    "\n",
    "normalize = torchvision.transforms.Normalize(mean_CA, stdev_CA)\n",
    "\n",
    "def preprocess_CA(camera_value):\n",
    "    global device, normalize\n",
    "    x = camera_value\n",
    "    x = cv2.cvtColor(x, cv2.COLOR_BGR2RGB)\n",
    "    x = x.transpose((2, 0, 1))\n",
    "    x = torch.from_numpy(x).float()\n",
    "    x = normalize(x)\n",
    "    x = x.to(device)\n",
    "    x = x[None, ...]\n",
    "    return x\n",
    "\n",
    "# Begin image preprocessing for Steering\n",
    "mean = torch.Tensor([0.485, 0.456, 0.406]).cuda().half()\n",
    "std = torch.Tensor([0.229, 0.224, 0.225]).cuda().half()\n",
    "\n",
    "def preprocess_Steer(image):\n",
    "    image = PIL.Image.fromarray(image)\n",
    "    image = transforms.functional.to_tensor(image).to(device).half()\n",
    "    image.sub_(mean[:, None, None]).div_(std[:, None, None])\n",
    "    return image[None, ...]\n",
    "# End image preprocessing\n",
    "\n",
    "# Begin camera instantiation with memory optimizations\n",
    "camera = Camera.instance(width=300, height=300, fps=10)\n",
    "\n",
    "image_widget = ipywidgets.Image()\n",
    "\n",
    "traitlets.dlink((camera, 'value'), (image_widget, 'value'), transform=bgr8_to_jpeg)\n",
    "\n",
    "#display(image_widget)\n",
    "\n",
    "# Instantiate JetBot controls\n",
    "from jetbot import Robot\n",
    "robot = Robot()\n",
    "\n",
    "# Steering PD control sliders\n",
    "speed_gain_slider = ipywidgets.FloatSlider(min=0.0, max=1.0, step=0.01, description='Speed Gain')\n",
    "steering_gain_slider = ipywidgets.FloatSlider(min=0.0, max=1.0, step=0.01, value=0.2, description='Steering Gain')\n",
    "steering_dgain_slider = ipywidgets.FloatSlider(min=0.0, max=0.5, step=0.001, value=0.0, description='Steering kd')\n",
    "steering_bias_slider = ipywidgets.FloatSlider(min=-0.3, max=0.3, step=0.01, value=0.0, description='Steering Bias')\n",
    "display(speed_gain_slider, steering_gain_slider, steering_dgain_slider, steering_bias_slider)\n",
    "\n",
    "# Sliders to show steering predictions\n",
    "x_slider = ipywidgets.FloatSlider(min=-1.0, max=1.0, description='x')\n",
    "y_slider = ipywidgets.FloatSlider(min=0, max=1.0, orientation='vertical', description='y')\n",
    "steering_slider = ipywidgets.FloatSlider(min=-1.0, max=1.0, description='Steering')\n",
    "speed_slider = ipywidgets.FloatSlider(min=0, max=1.0, orientation='vertical', description='Speed')\n",
    "blocked_slider = ipywidgets.FloatSlider(min=0, max=1.0, orientation='vertical', description = 'Blocked')\n",
    "display(ipywidgets.HBox([y_slider, speed_slider]))\n",
    "display(x_slider, steering_slider)\n",
    "\n",
    "angle = 0.0\n",
    "angle_last = 0.0\n",
    "\n",
    "# Update the Steering model for each camera change\n",
    "def update(change):\n",
    "    # Global variables \n",
    "    global blocked_slider, robot, angle, angle_last\n",
    "    \n",
    "    # Current image\n",
    "    image = change['new'] \n",
    "    \n",
    "    # Begin image processing for CA \n",
    "    CA_input = preprocess_CA(image)\n",
    "    CA_output = model_CA(CA_input)\n",
    "    \n",
    "    # we apply the `softmax` function to normalize the output vector so it sums to 1 (which makes it a probability distribution)\n",
    "    CA_output = F.softmax(CA_output, dim=1)\n",
    "    \n",
    "    prob_blocked = float(CA_output.flatten()[0])\n",
    "    prob_free = float(CA_output.flatten()[1])\n",
    "    \n",
    "    blocked_slider.value = prob_blocked\n",
    "    # End CA image processing\n",
    "      \n",
    "    \n",
    "    # End Steering image processing\n",
    "    \n",
    "    # Begin robot behavior\n",
    "    if prob_blocked > 0.9:\n",
    "        robot.backward(0.5)\n",
    "        time.sleep(0.1)\n",
    "    \n",
    "    if prob_free > 0.9:\n",
    "        robot.forward(0.4)\n",
    "       \n",
    "    else:\n",
    "        # Begin image processing for steering\n",
    "        xy = model_Steer(preprocess_Steer(image)).detach().float().cpu().numpy().flatten()\n",
    "        x = xy[0]\n",
    "        y = (0.5 - xy[1]) / 2.0\n",
    "\n",
    "        x_slider.value = x\n",
    "        y_slider.value = y\n",
    "        speed_slider.value = speed_gain_slider.value\n",
    "\n",
    "        angle = np.arctan2(x, y)\n",
    "\n",
    "        pid = (angle * steering_gain_slider.value) + ((angle - angle_last) * steering_dgain_slider.value)\n",
    "\n",
    "        angle_last = angle                                            \n",
    "\n",
    "        steering_slider.value = pid + steering_bias_slider.value\n",
    "        robot.left_motor.value = max(min(speed_slider.value + steering_slider.value, 1.0), 0.0)\n",
    "        robot.right_motor.value = max(min(speed_slider.value - steering_slider.value, 1.0), 0.0)\n",
    "    \n",
    "update({'new': camera.value}) # Update Jetbot with the current image\n",
    "\n",
    "# Current Parameters:\n",
    "# Speed Gain:    0.00\n",
    "# Steering Gain: 0.20\n",
    "# Steering kd:   0.05\n",
    "# Steering Bias:-0.05"
   ]
  },
  {
   "cell_type": "code",
   "execution_count": 2,
   "metadata": {},
   "outputs": [],
   "source": [
    "# this attaches the 'update' function to the 'value' traitlet of our camera\n",
    "camera.observe(update, names='value')  "
   ]
  },
  {
   "cell_type": "markdown",
   "metadata": {},
   "source": [
    "Stop the JetBot:"
   ]
  },
  {
   "cell_type": "code",
   "execution_count": 3,
   "metadata": {
    "scrolled": true
   },
   "outputs": [],
   "source": [
    "import time\n",
    "\n",
    "camera.unobserve(update, names='value')\n",
    "\n",
    "time.sleep(0.1)  # add a small sleep to make sure frames have finished processing\n",
    "\n",
    "robot.stop()\n",
    "\n",
    "#camera.stop() # Free up the camera for the next run"
   ]
  },
  {
   "cell_type": "code",
   "execution_count": null,
   "metadata": {},
   "outputs": [],
   "source": []
  }
 ],
 "metadata": {
  "kernelspec": {
   "display_name": "Python 3",
   "language": "python",
   "name": "python3"
  },
  "language_info": {
   "codemirror_mode": {
    "name": "ipython",
    "version": 3
   },
   "file_extension": ".py",
   "mimetype": "text/x-python",
   "name": "python",
   "nbconvert_exporter": "python",
   "pygments_lexer": "ipython3",
   "version": "3.6.9"
  }
 },
 "nbformat": 4,
 "nbformat_minor": 4
}
