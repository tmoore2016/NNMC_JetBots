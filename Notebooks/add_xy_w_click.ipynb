{
 "cells": [
  {
   "cell_type": "markdown",
   "metadata": {},
   "source": [
    "# Road Following Data Editing - Adding xy Coordinates to Photos by Mouseclick\n",
    "\n",
    "Author: Travis Moore, NNMC STARR Team\n",
    "\n",
    "Note: This code draws heavily from three sources. First, the NVIDIA data_collection.ipynb notebook shipped with the Jetbot sold by Sparkfun.com. You can find the original code here: https://github.com/NVIDIA-AI-IOT/jetbot\n",
    "\n",
    "Second, George Gorospe's modified data collection notebook that uses the Jupyter Clickable Widgets library to select a best path by mouseclick rather than scrollbars (https://github.com/jaybdub/jupyter_clickable_image_widget). \n",
    "\n",
    "Third, the BalticBot Poland STARR team's fantastic notebook that provides functionality to mark X,Y coordinates on existing images."
   ]
  },
  {
   "cell_type": "code",
   "execution_count": 58,
   "metadata": {},
   "outputs": [
    {
     "name": "stdout",
     "output_type": "stream",
     "text": [
      "Directory not created because it already exists\n",
      "You have 3 photos in this folder.\n",
      "7558d178-7df0-11eb-add8-08beac06b6d8.jpg\n"
     ]
    },
    {
     "data": {
      "application/vnd.jupyter.widget-view+json": {
       "model_id": "7700415b52614a52820df25e38743ca3",
       "version_major": 2,
       "version_minor": 0
      },
      "text/plain": [
       "VBox(children=(HBox(children=(ClickableImageWidget(value=b'\\xff\\xd8\\xff\\xe0\\x00\\x10JFIF\\x00\\x01\\x01\\x00\\x00\\x0…"
      ]
     },
     "metadata": {},
     "output_type": "display_data"
    },
    {
     "data": {
      "application/vnd.jupyter.widget-view+json": {
       "model_id": "db2254ce47c84145a98d1ee605dea694",
       "version_major": 2,
       "version_minor": 0
      },
      "text/plain": [
       "VBox(children=(HBox(children=(Button(button_style='success', description='SAVE', layout=Layout(align_self='cen…"
      ]
     },
     "metadata": {},
     "output_type": "display_data"
    }
   ],
   "source": [
    "# Import libraries\n",
    "# IPython Libraries for display and widgets\n",
    "import ipywidgets.widgets as widgets\n",
    "import traitlets\n",
    "from IPython.display import display\n",
    "from ipywidgets import interact, interact_manual\n",
    "from jupyter_clickable_image_widget import ClickableImageWidget\n",
    "\n",
    "# Python basic packages for image annotation\n",
    "import os\n",
    "import numpy as np\n",
    "import cv2\n",
    "import time\n",
    "\n",
    "count = -1\n",
    "\n",
    "# Create a new directory to save the modified images\n",
    "NEW_DIR = 'dataset_test_new'\n",
    "try:\n",
    "    os.makedirs(NEW_DIR)\n",
    "except FileExistsError:\n",
    "    print('Directory not created because it already exists')\n",
    "\n",
    "# Create a list of photos from the existing directory\n",
    "OLD_DIR = 'dataset_test/test'\n",
    "photo_list = os.listdir(OLD_DIR)\n",
    "nr_photos = len(photo_list)\n",
    "print(\"You have %d photos in this folder.\" %nr_photos)\n",
    "\n",
    "# Create a widget to display the current image\n",
    "image_widget = ClickableImageWidget(value = imv, format='jpeg', width=224, height=224)\n",
    "\n",
    "# Create a widget to display the snapshot after mouseclick\n",
    "snapshot_widget = widgets.Image(width=224, height=224)\n",
    "\n",
    "# Create a save button\n",
    "button_layout = widgets.Layout(width='128px', height='64px', align_self='center')\n",
    "save_button = widgets.Button(description='SAVE', button_style='success', layout=button_layout)\n",
    "\n",
    "# Container for widgets\n",
    "widget_container = widgets.VBox([widgets.HBox([image_widget])])\n",
    "\n",
    "# Container for button\n",
    "button_container = widgets.VBox([widgets.HBox([save_button])])\n",
    "\n",
    "# Create a placeholder image to identify the end of the dataset\n",
    "end_img = np.zeros((224,224,3), np.uint8)\n",
    "font = cv2.FONT_HERSHEY_COMPLEX\n",
    "cv2.putText(end_img,'END OF DATASET',(60,120), font, 0.4,(255,255,255),1,cv2.LINE_AA)\n",
    "imv_end = cv2.imencode('.jpg', end_img)[1].tobytes()\n",
    "\n",
    "# Draw a circle on the image and store the x,y coordinates from mouseclick \n",
    "def save_snapshot(_, content, msg):\n",
    "    global x, y\n",
    "    if content['event'] == 'click':\n",
    "        data = content['eventData']\n",
    "        x = data['offsetX']\n",
    "        y = data['offsetY']\n",
    "        \n",
    "        # Display new snapshot with Circle marking\n",
    "        snapshot = np.copy(img)\n",
    "        snapshot = cv2.circle(snapshot, (x,y), 8, (0,255,0), 3)\n",
    "        snapshot = cv2.imencode('.jpg', snapshot)[1].tobytes()\n",
    "        image_widget.value = snapshot\n",
    "    \n",
    "# Apply the x and y offset data to the current image's name and save in the new directory\n",
    "def save_photo():\n",
    "    file = photo_list[count]\n",
    "\n",
    "    new_file = 'xy_%03d_%03d_%s' % (x * 50 + 50, y * 50 + 50, file)\n",
    "\n",
    "    image_path = os.path.join(DATASET_XY_DIR, new_file)\n",
    "    with open(image_path, 'wb') as f:\n",
    "        f.write(imv)\n",
    "    # Move to next image\n",
    "    next_photo()\n",
    "\n",
    "# Display the current image in the set\n",
    "def next_photo():\n",
    "    global count, file, img, imv, more_images\n",
    "    count = (count + 1)\n",
    "    if count < nr_photos:\n",
    "        file = photo_list[count]\n",
    "        print(file)\n",
    "        img = cv2.imread(DIR + '/' + file)\n",
    "        imv = cv2.imencode('.jpg', img)[1].tobytes()\n",
    "        image_widget.value = imv\n",
    "    else:\n",
    "        image_widget.value = imv_end\n",
    "        \n",
    "\n",
    "# Display the first image        \n",
    "next_photo()\n",
    "\n",
    "# Use the clickable widget to call the save_snapshot method\n",
    "image_widget.on_msg(save_snapshot)\n",
    "\n",
    "# Assign function to save button\n",
    "save_button.on_click(lambda x: save_photo())\n",
    "\n",
    "display(widget_container)\n",
    "display(button_container)"
   ]
  },
  {
   "cell_type": "code",
   "execution_count": null,
   "metadata": {},
   "outputs": [],
   "source": []
  }
 ],
 "metadata": {
  "kernelspec": {
   "display_name": "Python 3",
   "language": "python",
   "name": "python3"
  },
  "language_info": {
   "codemirror_mode": {
    "name": "ipython",
    "version": 3
   },
   "file_extension": ".py",
   "mimetype": "text/x-python",
   "name": "python",
   "nbconvert_exporter": "python",
   "pygments_lexer": "ipython3",
   "version": "3.6.9"
  },
  "metadata": {
   "interpreter": {
    "hash": "ee5cc6fef2d70a7e71ee3826687cbd150f18158e0b1eef11d4f4f92bb920e304"
   }
  }
 },
 "nbformat": 4,
 "nbformat_minor": 4
}
