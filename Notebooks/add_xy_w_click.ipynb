{
 "cells": [
  {
   "cell_type": "markdown",
   "metadata": {},
   "source": [
    "# Road Following Data Editing - Adding xy Coordinates to Photos by Mouseclick\n",
    "\n",
    "Author: Travis Moore, NNMC STARR Team\n",
    "\n",
    "Note: This code draws heavily from three sources. First, the NVIDIA data_collection.ipynb notebook shipped with the Jetbot sold by Sparkfun.com. You can find the original code here: https://github.com/NVIDIA-AI-IOT/jetbot\n",
    "\n",
    "Second, George Gorospe's modified data collection notebook that uses the Jupyter Clickable Widgets library to select a best path by mouseclick rather than scrollbars (https://github.com/jaybdub/jupyter_clickable_image_widget). \n",
    "\n",
    "Third, the BalticBot Poland STARR team's fantastic notebook that provides functionality to mark X,Y coordinates on existing images."
   ]
  },
  {
   "cell_type": "code",
   "execution_count": 7,
   "metadata": {},
   "outputs": [],
   "source": [
    "# Assign function to save button\n",
    "saveButton.on_click(lambda x: next_photo())"
   ]
  },
  {
   "cell_type": "code",
   "execution_count": 9,
   "metadata": {},
   "outputs": [
    {
     "name": "stdout",
     "output_type": "stream",
     "text": [
      "You have 272 photos in that folder.\n",
      "3284de38-7def-11eb-add8-08beac06b6d8.jpg\n",
      "Directory not created because it already exists\n"
     ]
    },
    {
     "data": {
      "application/vnd.jupyter.widget-view+json": {
       "model_id": "d4e1da28361a438da4ec83616f825f13",
       "version_major": 2,
       "version_minor": 0
      },
      "text/plain": [
       "ClickableImageWidget(value=b'\\xff\\xd8\\xff\\xe0\\x00\\x10JFIF\\x00\\x01\\x01\\x00\\x00\\x01\\x00\\x01\\x00\\x00\\xff\\xdb\\x00C…"
      ]
     },
     "metadata": {},
     "output_type": "display_data"
    }
   ],
   "source": [
    "# Import libraries\n",
    "# IPython Libraries for display and widgets\n",
    "import ipywidgets.widgets as widgets\n",
    "import traitlets\n",
    "from IPython.display import display\n",
    "from ipywidgets import interact, interact_manual\n",
    "from jupyter_clickable_image_widget import ClickableImageWidget\n",
    "\n",
    "# Python basic packages for image annotation\n",
    "import os\n",
    "import numpy as np\n",
    "import cv2\n",
    "import time\n",
    "\n",
    "# Create a list of photos from an existing directory\n",
    "DIR = 'dataset_test/free'\n",
    "photo_list = os.listdir(DIR)\n",
    "nr_photos = len(photo_list)\n",
    "print(\"You have %d photos in that folder.\" % nr_photos)\n",
    "\n",
    "# Select the first photo from the list\n",
    "file = photo_list[0]\n",
    "print(file)\n",
    "\n",
    "# Define the first image from the list\n",
    "img = cv2.imread(DIR+'/'+file)\n",
    "# Encode the first image as a jpeg\n",
    "imv = cv2.imencode('.jpg', img)[1].tobytes()\n",
    "\n",
    "# Create a widget to display the current image\n",
    "image_widget = ClickableImageWidget(value = imv, format='jpeg', width=224, height=224)\n",
    "\n",
    "# Create a placeholder image to identify the end of the dataset\n",
    "end_img = np.zeros((224,224,3), np.uint8)\n",
    "font = cv2.FONT_HERSHEY_SIMPLEX\n",
    "cv2.putText(end_img,'END OF DATASET',(60,120), font, 0.4,(255,255,255),1,cv2.LINE_AA)\n",
    "imv_end = cv2.imencode('.jpg', end_img)[1].tobytes()\n",
    "\n",
    "# Create a new directory to save the modified images\n",
    "DATASET_XY_DIR = 'new_dataset_test'\n",
    "try:\n",
    "    os.makedirs(DATASET_XY_DIR)\n",
    "except FileExistsError:\n",
    "    print('Directory not created because it already exists')\n",
    "    \n",
    "# Apply the x and y offset data to the current image's title and save in the new directory\n",
    "def save_photo(_, content, msg):\n",
    "    if content['event'] == 'click':\n",
    "        data = content['eventData']\n",
    "        x = data['offsetX']\n",
    "        y = data['offsetY']\n",
    "        \n",
    "        file = photo_list[count]\n",
    "    \n",
    "        new_file = 'xy_%03d_%03d_%s' % (x * 50 + 50, y * 50 + 50, file)\n",
    "        \n",
    "        image_path = os.path.join(DATASET_XY_DIR, new_file)\n",
    "        with open(image_path, 'wb') as f: \n",
    "            f.write(imv)\n",
    "            \n",
    "        # Display new snapshot with Circle marking\n",
    "        snapshot = np.copy(img)\n",
    "        snapshot = cv2.circle(snapshot, (x,y), 8, (0,255,0), 3)\n",
    "        imv=cv2.imencode('.jpg', snapshot)[1].tobytes()\n",
    "        image_widget.value = imv\n",
    "    next_photo()\n",
    "\n",
    "# Use the clickable widget to call the save_photo method\n",
    "image_widget.on_msg(save_photo)\n",
    "\n",
    "# Function to save the current image and move on to the next one\n",
    "def next_photo():   \n",
    "    global count, xd, yd, xs, ys\n",
    "    save_photo()\n",
    "    count = (count + 1)\n",
    "    if count < len(photo_list):\n",
    "        file = photo_list[count]\n",
    "        img = cv2.imread(DIR + '/' + file)\n",
    "        img = cv2.circle(img, (xd,yd), 8 (0,255,0), 3)\n",
    "        imv = cv2.imencode('.jpg', img)[1].tobytes()\n",
    "        image_widget.value = imv\n",
    "    else:\n",
    "        image_widget.value = imv_end\n",
    "\n",
    "# @interact\n",
    "# def show_images():\n",
    "#     global count, xd, yd, xs, ys\n",
    "#     if count < len(photo_list):\n",
    "#         file = photo_list[count]\n",
    "#         image = np.copy(img)\n",
    "#         if content['event'] == 'click':\n",
    "#             data = content['eventData']\n",
    "#             x = data['offsetX']\n",
    "#             y = data['offsetY']\n",
    "#         xs = x\n",
    "#         ys = y\n",
    "#         image = cv2.circle(image, (x,y), 8, (0,255,0), 3)\n",
    "#         image_widget.value = imv\n",
    "#         xd = x\n",
    "#         yd = y\n",
    "\n",
    "display(image_widget)"
   ]
  },
  {
   "cell_type": "code",
   "execution_count": null,
   "metadata": {},
   "outputs": [],
   "source": []
  }
 ],
 "metadata": {
  "kernelspec": {
   "display_name": "Python 3",
   "language": "python",
   "name": "python3"
  },
  "language_info": {
   "codemirror_mode": {
    "name": "ipython",
    "version": 3
   },
   "file_extension": ".py",
   "mimetype": "text/x-python",
   "name": "python",
   "nbconvert_exporter": "python",
   "pygments_lexer": "ipython3",
   "version": "3.6.9"
  },
  "metadata": {
   "interpreter": {
    "hash": "ee5cc6fef2d70a7e71ee3826687cbd150f18158e0b1eef11d4f4f92bb920e304"
   }
  }
 },
 "nbformat": 4,
 "nbformat_minor": 4
}
