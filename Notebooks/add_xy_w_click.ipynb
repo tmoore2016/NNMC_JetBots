{
 "cells": [
  {
   "cell_type": "markdown",
   "metadata": {},
   "source": [
    "# Road Following Data Editing - Adding xy Coordinates to Photos by Mouseclick\n",
    "\n",
    "Author: Travis Moore, NNMC STARR Team\n",
    "\n",
    "Note: This code draws heavily from three sources. First, the NVIDIA data_collection.ipynb notebook shipped with the Jetbot sold by Sparkfun.com. You can find the original code here: https://github.com/NVIDIA-AI-IOT/jetbot\n",
    "\n",
    "Second, George Gorospe's modified data collection notebook that uses the Jupyter Clickable Widgets library to select a best path by mouseclick rather than scrollbars (https://github.com/jaybdub/jupyter_clickable_image_widget). \n",
    "\n",
    "Third, the BalticBot Poland STARR team's fantastic notebook that provides functionality to mark X,Y coordinates on existing images."
   ]
  },
  {
   "cell_type": "code",
   "execution_count": null,
   "metadata": {},
   "outputs": [],
   "source": [
    "# Assign function to save button\n",
    "saveButton.on_click(lambda x: next_photo())"
   ]
  },
  {
   "cell_type": "code",
   "execution_count": 21,
   "metadata": {},
   "outputs": [
    {
     "name": "stdout",
     "output_type": "stream",
     "text": [
      "You have 1211 photos in that folder.\n",
      "xy_046_046_9952c804-7df0-11eb-add8-08beac06b6d8.jpg\n"
     ]
    },
    {
     "data": {
      "application/vnd.jupyter.widget-view+json": {
       "model_id": "8e1d29c56c5a44fa8a38dc4f407ec9fa",
       "version_major": 2,
       "version_minor": 0
      },
      "text/plain": [
       "ClickableImageWidget(value=b'\\xff\\xd8\\xff\\xe0\\x00\\x10JFIF\\x00\\x01\\x01\\x00\\x00\\x01\\x00\\x01\\x00\\x00\\xff\\xdb\\x00C…"
      ]
     },
     "metadata": {},
     "output_type": "display_data"
    },
    {
     "name": "stdout",
     "output_type": "stream",
     "text": [
      "Directory not created because it already exists\n"
     ]
    },
    {
     "data": {
      "application/vnd.jupyter.widget-view+json": {
       "model_id": "8e1d29c56c5a44fa8a38dc4f407ec9fa",
       "version_major": 2,
       "version_minor": 0
      },
      "text/plain": [
       "ClickableImageWidget(value=b'\\xff\\xd8\\xff\\xe0\\x00\\x10JFIF\\x00\\x01\\x01\\x00\\x00\\x01\\x00\\x01\\x00\\x00\\xff\\xdb\\x00C…"
      ]
     },
     "metadata": {},
     "output_type": "display_data"
    },
    {
     "data": {
      "application/vnd.jupyter.widget-view+json": {
       "model_id": "170d53b134574f278dfb1941afec4e6d",
       "version_major": 2,
       "version_minor": 0
      },
      "text/plain": [
       "interactive(children=(Output(),), _dom_classes=('widget-interact',))"
      ]
     },
     "metadata": {},
     "output_type": "display_data"
    },
    {
     "ename": "AttributeError",
     "evalue": "module 'ipywidgets.widgets' has no attribute 'Hbox'",
     "output_type": "error",
     "traceback": [
      "\u001b[0;31m---------------------------------------------------------------------------\u001b[0m",
      "\u001b[0;31mAttributeError\u001b[0m                            Traceback (most recent call last)",
      "\u001b[0;32m<ipython-input-21-8c41c7cbab97>\u001b[0m in \u001b[0;36m<module>\u001b[0;34m\u001b[0m\n\u001b[1;32m    105\u001b[0m         \u001b[0myd\u001b[0m \u001b[0;34m=\u001b[0m \u001b[0my\u001b[0m\u001b[0;34m\u001b[0m\u001b[0;34m\u001b[0m\u001b[0m\n\u001b[1;32m    106\u001b[0m \u001b[0;34m\u001b[0m\u001b[0m\n\u001b[0;32m--> 107\u001b[0;31m \u001b[0mdisplay\u001b[0m\u001b[0;34m(\u001b[0m\u001b[0mwidgets\u001b[0m\u001b[0;34m.\u001b[0m\u001b[0mHbox\u001b[0m\u001b[0;34m(\u001b[0m\u001b[0;34m[\u001b[0m\u001b[0mimage_widget\u001b[0m\u001b[0;34m,\u001b[0m \u001b[0msaveButton\u001b[0m\u001b[0;34m]\u001b[0m\u001b[0;34m)\u001b[0m\u001b[0;34m)\u001b[0m\u001b[0;34m\u001b[0m\u001b[0;34m\u001b[0m\u001b[0m\n\u001b[0m",
      "\u001b[0;31mAttributeError\u001b[0m: module 'ipywidgets.widgets' has no attribute 'Hbox'"
     ]
    }
   ],
   "source": [
    "# Import libraries\n",
    "# IPython Libraries for display and widgets\n",
    "import ipywidgets.widgets as widgets\n",
    "import traitlets\n",
    "from IPython.display import display\n",
    "from ipywidgets import interact, interact_manual\n",
    "from jupyter_clickable_image_widget import ClickableImageWidget\n",
    "\n",
    "# Python basic packages for image annotation\n",
    "import os\n",
    "import numpy as np\n",
    "import cv2\n",
    "import time\n",
    "\n",
    "# Create a list of photos from an existing directory\n",
    "DIR = 'dataset_test/free'\n",
    "photo_list = os.listdir(DIR)\n",
    "nr_photos = len(photo_list)\n",
    "print(\"You have %d photos in that folder.\" % nr_photos)\n",
    "\n",
    "# Select the first photo from the list\n",
    "file = photo_list[0]\n",
    "print(file)\n",
    "\n",
    "# Define the first image from the list\n",
    "img = cv2.imread(DIR+'/'+file)\n",
    "# Encode the first image as a jpeg\n",
    "imv = cv2.imencode('.jpg', img)[1].tobytes()\n",
    "\n",
    "# Create a placeholder image to identify the end of the dataset\n",
    "end_img = np.zeros((224,224,3), np.uint8)\n",
    "font = cv2.FONT_HERSHEY_SIMPLEX\n",
    "cv2.putText(end_img,'END OF DATASET',(60,120), font, 0.4,(255,255,255),1,cv2.LINE_AA)\n",
    "imv_end = cv2.imencode('.jpg', end_img)[1].tobytes()\n",
    "image_widget.value = imv_end\n",
    "\n",
    "# Create a widget to display the current image\n",
    "image_widget = ClickableImageWidget(value = imv, format='jpeg', width=224, height=224)\n",
    "display(image_widget)\n",
    "\n",
    "# Create save button\n",
    "button_layout = widgets.Layout(width='128px', height='64px', align_self='center')\n",
    "saveButton = widgets.Button(description='SAVE', button_style='success', layout=button_layout)\n",
    "\n",
    "# Create a new directory to save the modified images\n",
    "DATASET_XY_DIR = 'new_dataset_test'\n",
    "try:\n",
    "    os.makedirs(DATASET_XY_DIR)\n",
    "except FileExistsError:\n",
    "    print('Directory not created because it already exists')\n",
    "\n",
    "# Apply the x and y offset data to the current image's title and save in the new directory\n",
    "def save_photo(content, msg):\n",
    "    if content['event'] == 'click':\n",
    "        data = content['eventData']\n",
    "        x = data['offsetX']\n",
    "        y = data['offsetY']\n",
    "        \n",
    "        file = photo_list[count]\n",
    "    \n",
    "        new_file = 'xy_%03d_%03d_%s' % (x * 50 + 50, y * 50 + 50, file)\n",
    "        \n",
    "        image_path = os.path.join(DATASET_XY_DIR, new_file)\n",
    "        with open(image_path, 'wb') as f: \n",
    "            f.write(imv)\n",
    "            \n",
    "        # Display new snapshot with Circle marking\n",
    "        snapshot = np.copy(img)\n",
    "        snapshot = cv2.circle(snapshot, (x,y), 8, (0,255,0), 3)\n",
    "        imv=cv2.imencode('.jpg', snapshot)[1].tobytes()\n",
    "        image_widget.value = imv\n",
    "        \n",
    "display(image_widget)\n",
    "\n",
    "# Function to save the current image and move on to the next one\n",
    "def next_photo():\n",
    "    global count, xd, yd, xs, ys\n",
    "    save_photo()\n",
    "    count = (count + 1)\n",
    "    if count < len(photo_list):\n",
    "        file = photo_list[count]\n",
    "        img = cv2.imread(DIR + '/' + file)\n",
    "        img = cv2.circle(img, (xd,yd), 8 (0,255,0), 3)\n",
    "        imv = cv2.imencode('.jpg', img)[1].tobytes()\n",
    "        image_widget.value = imv\n",
    "    else:\n",
    "        image_widget.value = imv_end\n",
    "        \n",
    "count = 0\n",
    "@interact\n",
    "def show_images():\n",
    "    global count, xd, yd, xs, ys\n",
    "    if count < len(photo_list):\n",
    "        file = photo_list[count]\n",
    "        image = np.copy(img)\n",
    "        if content['event'] == 'click':\n",
    "            data = content['eventData']\n",
    "            x = data['offsetX']\n",
    "            y = data['offsetY']\n",
    "        xs = x\n",
    "        ys = y\n",
    "        image = cv2.circle(image, (x,y), 8, (0,255,0), 3)\n",
    "        image_widget.value = imv\n",
    "        xd = x\n",
    "        yd = y\n",
    "\n",
    "display(widgets.Hbox([image_widget, saveButton]))"
   ]
  },
  {
   "cell_type": "code",
   "execution_count": null,
   "metadata": {},
   "outputs": [],
   "source": []
  }
 ],
 "metadata": {
  "kernelspec": {
   "display_name": "Python 3",
   "language": "python",
   "name": "python3"
  },
  "language_info": {
   "codemirror_mode": {
    "name": "ipython",
    "version": 3
   },
   "file_extension": ".py",
   "mimetype": "text/x-python",
   "name": "python",
   "nbconvert_exporter": "python",
   "pygments_lexer": "ipython3",
   "version": "3.6.9"
  },
  "metadata": {
   "interpreter": {
    "hash": "ee5cc6fef2d70a7e71ee3826687cbd150f18158e0b1eef11d4f4f92bb920e304"
   }
  }
 },
 "nbformat": 4,
 "nbformat_minor": 4
}
