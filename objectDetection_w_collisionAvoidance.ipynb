{
 "metadata": {
  "language_info": {
   "codemirror_mode": {
    "name": "ipython",
    "version": 3
   },
   "file_extension": ".py",
   "mimetype": "text/x-python",
   "name": "python",
   "nbconvert_exporter": "python",
   "pygments_lexer": "ipython3",
   "version": 3
  },
  "orig_nbformat": 2
 },
 "nbformat": 4,
 "nbformat_minor": 2,
 "cells": [
  {
   "source": [
    "\n",
    "The COCO object recognition model is loaded on the JetBot and an array of object indexes is created based on the image captured by the camera. "
   ],
   "cell_type": "markdown",
   "metadata": {}
  },
  {
   "cell_type": "code",
   "execution_count": null,
   "metadata": {},
   "outputs": [],
   "source": [
    "from jetbot import ObjectDetector\n",
    "\n",
    "\n",
    "model = ObjectDetector('ssd_mobilenet_v2_coco.engine')"
   ]
  },
  {
   "source": [
    "Reset the camera and run it."
   ],
   "cell_type": "markdown",
   "metadata": {}
  },
  {
   "cell_type": "code",
   "execution_count": null,
   "metadata": {},
   "outputs": [],
   "source": [
    "import os\n",
    "\n",
    "os.system('systemctl restart nvargus-daemon')\n",
    "\n",
    "detections = model(camera.value)\n",
    "\n",
    "print(detections)"
   ]
  },
  {
   "source": [
    "Load a widget to display detected objects."
   ],
   "cell_type": "markdown",
   "metadata": {}
  },
  {
   "cell_type": "code",
   "execution_count": null,
   "metadata": {},
   "outputs": [],
   "source": [
    "from IPython.display import display\n",
    "import ipywidgets.widgets as widgets\n",
    "\n",
    "detections_widget = widgets.Textarea()\n",
    "\n",
    "detections_widget.value = str(detections)\n",
    "\n",
    "display(detections_widget)"
   ]
  },
  {
   "source": [
    "Detections: The “label” value indicates which object has been detected, the “confidence” value is the probability that the recognized object is the actual object, and the “bbox” values are the bounding box parameters of the object in the image."
   ],
   "cell_type": "markdown",
   "metadata": {}
  },
  {
   "cell_type": "code",
   "execution_count": null,
   "metadata": {},
   "outputs": [],
   "source": [
    "image_number = 0\n",
    "object_number = 0\n",
    "\n",
    "print(detections[image_number][object_number])"
   ]
  },
  {
   "source": [
    "Load the best_path training model for collision avoidance. Preprocess camera values."
   ],
   "cell_type": "markdown",
   "metadata": {}
  },
  {
   "cell_type": "code",
   "execution_count": null,
   "metadata": {},
   "outputs": [],
   "source": [
    "import torch\n",
    "import torchvision\n",
    "import torch.nn.functional as F\n",
    "import cv2\n",
    "import numpy as np\n",
    "\n",
    "collision_model = torchvision.models.alexnet(pretrained=False)\n",
    "collision_model.classifier[6] = torch.nn.Linear(collision_model.classifier[6].in_features, 2)\n",
    "collision_model.load_state_dict(torch.load('../collision_avoidance/best_model_FreeBlocked.pth'))\n",
    "device = torch.device('cuda')\n",
    "collision_model = collision_model.to(device)\n",
    "\n",
    "mean = 255.0 * np.array([0.485, 0.456, 0.406])\n",
    "stdev = 255.0 * np.array([0.229, 0.224, 0.225])\n",
    "\n",
    "normalize = torchvision.transforms.Normalize(mean, stdev)\n",
    "\n",
    "def preprocess(camera_value):\n",
    "    global device, normalize\n",
    "    x = camera_value\n",
    "    x = cv2.resize(x, (224, 224))\n",
    "    x = cv2.cvtColor(x, cv2.COLOR_BGR2RGB)\n",
    "    x = x.transpose((2, 0, 1))\n",
    "    x = torch.from_numpy(x).float()\n",
    "    x = normalize(x)\n",
    "    x = x.to(device)\n",
    "    x = x[None, ...]\n",
    "    return x"
   ]
  },
  {
   "cell_type": "code",
   "execution_count": null,
   "metadata": {},
   "outputs": [],
   "source": [
    "Load the JetBot controls."
   ]
  },
  {
   "cell_type": "code",
   "execution_count": null,
   "metadata": {},
   "outputs": [],
   "source": [
    "from jetbot import Robot\n",
    "\n",
    "robot = Robot()"
   ]
  },
  {
   "source": [
    "Load the driving instructions based on object detection."
   ],
   "cell_type": "markdown",
   "metadata": {}
  },
  {
   "cell_type": "code",
   "execution_count": null,
   "metadata": {},
   "outputs": [],
   "source": [
    "from jetbot import bgr8_to_jpeg\n",
    "\n",
    "blocked_widget = widgets.FloatSlider(min=0.0, max=1.0, value=0.0, description='blocked')\n",
    "image_widget = widgets.Image(format='jpeg', width=300, height=300)\n",
    "label_widget = widgets.IntText(value=1, description='tracked label')\n",
    "\n",
    "display(widgets.VBox([\n",
    "    widgets.HBox([image_widget, blocked_widget]),\n",
    "    label_widget\n",
    "]))\n",
    "\n",
    "width = int(image_widget.width)\n",
    "height = int(image_widget.height)\n",
    "\n",
    "def detection_center(detection):\n",
    "    \"\"\"Computes the center x, y coordinates of the object\"\"\"\n",
    "    bbox = detection['bbox']\n",
    "    center_x = (bbox[0] + bbox[2]) / 2.0 - 0.5\n",
    "    center_y = (bbox[1] + bbox[3]) / 2.0 - 0.5\n",
    "    return (center_x, center_y)\n",
    "    \n",
    "def norm(vec):\n",
    "    \"\"\"Computes the length of the 2D vector\"\"\"\n",
    "    return np.sqrt(vec[0]**2 + vec[1]**2)\n",
    "\n",
    "def closest_detection(detections):\n",
    "    \"\"\"Finds the detection closest to the image center\"\"\"\n",
    "    closest_detection = None\n",
    "    for det in detections:\n",
    "        center = detection_center(det)\n",
    "        if closest_detection is None:\n",
    "            closest_detection = det\n",
    "        elif norm(detection_center(det)) < norm(detection_center(closest_detection)):\n",
    "            closest_detection = det\n",
    "    return closest_detection\n",
    "\n",
    "# Simple PD controller (Kp - proportional term, Kd - derivative term)\n",
    "Kp = 0.18\n",
    "Kd = 0.05\n",
    "\n",
    "min_drive = .5\n",
    "min_blocked = .6\n",
    "min_turn = .5\n",
    "max_turn = .7\n",
    "frwd_value = 0.6                    # Default value to drive forward (0 = no action, 1 = full motor capacity)\n",
    "bkwd_value = 0.4\n",
    "rot_value_when_exploring = 0.5        # Default value to spin to the right when robot is in exploration mode (0 = no action, 1 = full motor capacity)\n",
    "min_prob_free_to_drive_frwd = .35    # Min probability prob_free for robot to drive forward \n",
    "max_n_frames_stuck = 20               # Limit on the number of frames the robot is stuck for. Once this limit is reached, robot goes into exploration mode (makes large right turn)\n",
    "frame_counter = 0                     # Frame counter \n",
    "n_frames_stuck = 0                    # Initialize counter of the number of successive frames the robot is stuck for\n",
    "exploration = False                   # Initialize binary variable which determines if robot is in exploration mode (when True.) Used to mark the related frames with red background  \n",
    "data_log = []                         # Initialize the array whcih will store a history of telemetry readings and robot actions (for analysis and tuning)\n",
    "recent_obstacles = []                 # Initialize the array to store the last frame data\n",
    "\n",
    "def update(change):\n",
    "    global robot, frame_counter, n_frames_stuck, exploration\n",
    "    x = change['new'] \n",
    "    x = preprocess(x)\n",
    "    y = model(x)\n",
    "    \n",
    "    # apply the `softmax` function to normalize the output vector so it sums to 1 (which makes it a probability distribution)\n",
    "    y = F.softmax(y, dim=1)\n",
    "    \n",
    "    y = y.flatten()\n",
    "   \n",
    "    # update list of recent detections\n",
    "    while (len(recent_obstacles) >= 2):\n",
    "        recent_obstacles.pop(0)\n",
    "    recent_obstacles.append([prob_free,prob_blocked])\n",
    "    \n",
    "    # check if robot got stuck and update n_frames_stuck counter\n",
    "    if prob_free < min_prob_free_to_drive_frwd:\n",
    "        n_frames_stuck = n_frames_stuck + 1 \n",
    "    else:\n",
    "        n_frames_stuck = 0\n",
    "        \n",
    "    # calculate errors at times t (current) and t-1 (prev)    \n",
    "    # error(t) and error(t-1): prob_left-prob_right   \n",
    "    if len(recent_obstacles) == 2:\n",
    "        current_probs = recent_obstacles[1]\n",
    "        prev_probs = recent_obstacles[0]\n",
    "    else:\n",
    "        current_probs = [prob_free,prob_blocked]\n",
    "        prev_probs = current_probs\n",
    "                \n",
    "    # error = prob_left-prob_right        \n",
    "    current_error = current_probs[1] - current_probs[2]\n",
    "    prev_error    = prev_probs[1] - prev_probs[2]\n",
    "\n",
    "    # increment frame counter \n",
    "    frame_counter = frame_counter + 1\n",
    "    \n",
    "    # define functions which determine (and return) robot actions\n",
    "    def forward(value):\n",
    "        robot.forward(value)\n",
    "        return (\"FWRD\",round(value,2))\n",
    "\n",
    "    def left(value):\n",
    "        robot.left(value)\n",
    "        return (\"LEFT\",round(value,2))\n",
    "\n",
    "    def right(value):\n",
    "        robot.right(value)\n",
    "        return (\"RIGHT\",round(value,2))\n",
    "    \n",
    "    def reverse(value):\n",
    "        robot.backward(value)\n",
    "        return (\"BKWRD\",round(value,2))\n",
    "    \n",
    "    action = \"\"\n",
    "  \n",
    "    # estimate rotational value to turn left (if negative) or right (if positive)\n",
    "    # 0 = no action, 1 = full motor capacity)\n",
    "    rot_value = - Kp * current_error - Kd * (current_error - prev_error)\n",
    "    \n",
    "    # store propotional and differential controller components for frame-by-frame analysis\n",
    "    p_component = - Kp * current_error\n",
    "    d_component = - Kd * (current_error - prev_error)\n",
    "        \n",
    "def execute(change):\n",
    "    image = change['new']\n",
    "    \n",
    "    # execute collision model to determine if blocked\n",
    "    collision_output = collision_model(preprocess(image)).detach().cpu()\n",
    "    prob_blocked = float(F.softmax(collision_output.flatten(), dim=0)[0])\n",
    "    prob_free = float(F.softmax(collision_output.flatten(), dim=0)[1])\n",
    "    blocked_widget.value = prob_blocked\n",
    "    \n",
    "    # turn left if blocked\n",
    "    if n_frames_stuck < max_n_frames_stuck:\n",
    "\n",
    "        if prob_blocked > 0.6:\n",
    "            robot.left(max_turn)\n",
    "            image_widget.value = bgr8_to_jpeg(image)\n",
    "            return\n",
    "        \n",
    "        # compute all detected objects\n",
    "        detections = model(image)\n",
    "        \n",
    "        # draw all detections on image\n",
    "        for det in detections[0]:\n",
    "            bbox = det['bbox']\n",
    "            cv2.rectangle(image, (int(width * bbox[0]), int(height * bbox[1])), (int(width * bbox[2]), int(height * bbox[3])), (255, 0, 0), 2)\n",
    "    \n",
    "        # select detections that match selected class label\n",
    "        matching_detections = [d for d in detections[0] if d['label'] == int(label_widget.value)]\n",
    "        \n",
    "        # get detection closest to center of field of view and draw it\n",
    "        det = closest_detection(matching_detections)\n",
    "        if det is not None:\n",
    "            bbox = det['bbox']\n",
    "            cv2.rectangle(image, (int(width * bbox[0]), int(height * bbox[1])), (int(width * bbox[2]), int(height * bbox[3])), (0, 255, 0), 5)\n",
    "        \n",
    "        # otherwise go forward if no target detected\n",
    "        if det is None:\n",
    "            robot.forward(float(frwd_value))\n",
    "        \n",
    "        # otherwsie steer towards target\n",
    "        elif:\n",
    "            # move robot forward and steer proportional target's x-distance from center\n",
    "            center = detection_center(det)\n",
    "            robot.set_motors(\n",
    "                float(frwd_value + min_turn * center[0]),\n",
    "                float(frwd_value - min_turn * center[0])\n",
    "            )\n",
    "    else:\n",
    "                    exploration = True\n",
    "        #robot_rotates = True\n",
    "        action = reverse(bkwd_value)\n",
    "        time.sleep(0.2)\n",
    "        n_frames_stuck = 0\n",
    "    \n",
    "    time.sleep(0.001)\n",
    "    \n",
    "    # reset variables\n",
    "    exploration = False\n",
    "    robot_rotates = False\n",
    "    \n",
    "    # update image widget\n",
    "    image_widget.value = bgr8_to_jpeg(image)\n",
    "    \n",
    "execute({'new': camera.value})"
   ]
  },
  {
   "source": [
    "Connect the execute function to each camera update"
   ],
   "cell_type": "markdown",
   "metadata": {}
  },
  {
   "cell_type": "code",
   "execution_count": null,
   "metadata": {},
   "outputs": [],
   "source": [
    "camera.unobserve_all()\n",
    "camera.observe(execute, names='value')"
   ]
  },
  {
   "source": [
    "End processing and stop the robot"
   ],
   "cell_type": "markdown",
   "metadata": {}
  },
  {
   "cell_type": "code",
   "execution_count": null,
   "metadata": {},
   "outputs": [],
   "source": [
    "import time\n",
    "\n",
    "camera.unobserve_all()\n",
    "time.sleep(1.0)\n",
    "robot.stop()"
   ]
  },
  {
   "cell_type": "code",
   "execution_count": null,
   "metadata": {},
   "outputs": [],
   "source": [
    "Placeholder"
   ]
  }
 ]
}